{
  "nbformat": 4,
  "nbformat_minor": 0,
  "metadata": {
    "colab": {
      "provenance": [],
      "collapsed_sections": [
        "-1GcmKb9lwsB"
      ],
      "authorship_tag": "ABX9TyNjhgcs7S5kR6v2jg5odLTS"
    },
    "kernelspec": {
      "name": "python3",
      "display_name": "Python 3"
    },
    "language_info": {
      "name": "python"
    }
  },
  "cells": [
    {
      "cell_type": "code",
      "execution_count": null,
      "metadata": {
        "id": "1wpJS7R-KOej"
      },
      "outputs": [],
      "source": [
        "pip install keras-tuner --upgrade"
      ]
    },
    {
      "cell_type": "code",
      "source": [
        "import tensorflow as tf\n",
        "print(tf.__version__)"
      ],
      "metadata": {
        "colab": {
          "base_uri": "https://localhost:8080/"
        },
        "id": "DppJ2y4zM4Yj",
        "outputId": "08d073b0-397d-4d25-d37c-e85c58901bbc"
      },
      "execution_count": 3,
      "outputs": [
        {
          "output_type": "stream",
          "name": "stdout",
          "text": [
            "2.11.0\n"
          ]
        }
      ]
    },
    {
      "cell_type": "markdown",
      "source": [
        "The datasets needed for this project were downloaded from this link: https://docs.google.com/file/d/0B04GJPshIjmPRnZManQwWEdTZjg/edit?resourcekey=0-betyQkEmWZgp8z0DFxWsHw. They were then unzipped and stored in gdrive for use in this colab notebook. I only used the training set and split it into train, val and test set later in the notebook to maintain uniformity.\n",
        "After skimming through the csv file, I have renamed it as \"training_cleaned\"."
      ],
      "metadata": {
        "id": "zK8eGi3qNWW6"
      }
    },
    {
      "cell_type": "code",
      "source": [
        "# Run this to connect the drive folder\n",
        "\n",
        "from google.colab import drive\n",
        "drive.mount('/content/gdrive')"
      ],
      "metadata": {
        "colab": {
          "base_uri": "https://localhost:8080/"
        },
        "id": "tfSFij8nNFSC",
        "outputId": "39831f73-9684-4ba2-afb0-205617935b60"
      },
      "execution_count": 7,
      "outputs": [
        {
          "output_type": "stream",
          "name": "stdout",
          "text": [
            "Mounted at /content/gdrive\n"
          ]
        }
      ]
    },
    {
      "cell_type": "code",
      "source": [
        "# Necessary imports\n",
        "import csv\n",
        "import random\n",
        "#import pickle\n",
        "import numpy as np\n",
        "import tensorflow as tf\n",
        "from tensorflow.keras.preprocessing.text import Tokenizer\n",
        "from tensorflow.keras.preprocessing.sequence import pad_sequences\n",
        "import matplotlib.pyplot as plt\n",
        "from sklearn.metrics import accuracy_score, confusion_matrix\n",
        "#from scipy.stats import linregress"
      ],
      "metadata": {
        "id": "_Sbu1feFNt7e"
      },
      "execution_count": 51,
      "outputs": []
    },
    {
      "cell_type": "code",
      "source": [
        "# Lets see how each sample is\n",
        "sentiment_tweet_data = \"/content/gdrive/MyDrive/data_files/training_cleaned.csv\"\n",
        "with open(sentiment_tweet_data, \"r\") as csvfile:\n",
        "  print(f\"The header looks like this:\\n\\n{csvfile.readline()}\")\n",
        "  print(f\"Each data example looks like this:\\n\\n{csvfile.readline()}\")"
      ],
      "metadata": {
        "colab": {
          "base_uri": "https://localhost:8080/"
        },
        "id": "fz49lrUgOkKj",
        "outputId": "46fa2bbc-7741-4ae7-fd62-89fb507230c6"
      },
      "execution_count": 8,
      "outputs": [
        {
          "output_type": "stream",
          "name": "stdout",
          "text": [
            "The header looks like this:\n",
            "\n",
            "\"0\",\"1467810369\",\"Mon Apr 06 22:19:45 PDT 2009\",\"NO_QUERY\",\"_TheSpecialOne_\",\"@switchfoot http://twitpic.com/2y1zl - Awww, that's a bummer.  You shoulda got David Carr of Third Day to do it. ;D\"\n",
            "\n",
            "Each data example looks like this:\n",
            "\n",
            "\"0\",\"1467810672\",\"Mon Apr 06 22:19:49 PDT 2009\",\"NO_QUERY\",\"scotthamilton\",\"is upset that he can't update his Facebook by texting it... and might cry as a result  School today also. Blah!\"\n",
            "\n"
          ]
        }
      ]
    },
    {
      "cell_type": "markdown",
      "source": [
        "As we can see each data example has a label, id,datetime,query flag, handle, a string sentence(the tweet).\n",
        "label : 0 for negative, 4 for positive.\n",
        "id: id of the tweet.\n",
        "datetime: date and time of the tweet\n",
        "flag: the query. If theree is no query, this value is NO_QUERY.\n",
        "handle: the handle of the user who tweeted.\n",
        "text : text , the tweet.\n"
      ],
      "metadata": {
        "id": "YzUYgALtPnSc"
      }
    },
    {
      "cell_type": "markdown",
      "source": [
        "###Preprocessing: Parsing and Spliting\n"
      ],
      "metadata": {
        "id": "YHa7VPt8PycB"
      }
    },
    {
      "cell_type": "markdown",
      "source": [
        "Parsing the raw data. Changing positive tweet labels to integer 1 and negative tweet as integer 0."
      ],
      "metadata": {
        "id": "tnBAMn2fP7yT"
      }
    },
    {
      "cell_type": "code",
      "source": [
        "def parse_data_from_file(filename):\n",
        "    \"\"\"\n",
        "    Extracts sentences and labels from a CSV file\n",
        "    Args:\n",
        "        filename (string): path to the CSV file\n",
        "    Returns:\n",
        "        sentences, labels (list of string, list of string): tuple containing lists of sentences and labels\n",
        "    \"\"\"\n",
        "    \n",
        "    sentences = []\n",
        "    labels = []\n",
        "    \n",
        "    with open(filename, 'r') as csvfile:\n",
        "       \n",
        "        reader = csv.reader(csvfile, delimiter=\",\")\n",
        "        for line in reader:\n",
        "            sentences.append(line[5])\n",
        "            if line[0]==\"4\":\n",
        "                labels.append(1)\n",
        "            else:\n",
        "                labels.append(0)\n",
        "                  \n",
        "    return sentences, labels"
      ],
      "metadata": {
        "id": "OLaDV7_aQBUC"
      },
      "execution_count": 9,
      "outputs": []
    },
    {
      "cell_type": "code",
      "source": [
        "# see if parsing worked\n",
        "sentences, labels = parse_data_from_file(sentiment_tweet_data)\n",
        "print(f\"dataset has {len(sentences)} examples\\n\")\n",
        "print(f\"Tweet of third example is:\\n{sentences[2]}\\n\")\n",
        "print(f\"The label of third example is: {labels[2]}\")\n"
      ],
      "metadata": {
        "colab": {
          "base_uri": "https://localhost:8080/"
        },
        "id": "kIJl57FHXCUj",
        "outputId": "9c8b5f3e-8ae5-4ccf-8914-8bb4e511757e"
      },
      "execution_count": 10,
      "outputs": [
        {
          "output_type": "stream",
          "name": "stdout",
          "text": [
            "dataset has 1600000 examples\n",
            "\n",
            "Tweet of third example is:\n",
            "@Kenichan I dived many times for the ball. Managed to save 50%  The rest go out of bounds\n",
            "\n",
            "The label of third example is: 0\n"
          ]
        }
      ]
    },
    {
      "cell_type": "markdown",
      "source": [
        "Taking only subset of the data to save execution time. "
      ],
      "metadata": {
        "id": "R8msua1ObnBq"
      }
    },
    {
      "cell_type": "code",
      "source": [
        "#zip sentences and labels together\n",
        "sentences_labels = list(zip(sentences, labels))\n",
        "max_examples = 300000 #300,000\n",
        "\n",
        "#random sampling\n",
        "random.seed(52)\n",
        "sentences_labels = random.sample(sentences_labels, max_examples)\n",
        "\n",
        "#unzip\n",
        "sentences, labels = zip(*sentences_labels)\n",
        "print(f\"There are {len(sentences)} sentences and {len(labels)} labels now.\\n\")"
      ],
      "metadata": {
        "colab": {
          "base_uri": "https://localhost:8080/"
        },
        "id": "qMfrAMThXrwS",
        "outputId": "aa8497b2-be98-4802-e23f-3dbf1fcb000e"
      },
      "execution_count": 11,
      "outputs": [
        {
          "output_type": "stream",
          "name": "stdout",
          "text": [
            "There are 300000 sentences and 300000 labels now.\n",
            "\n"
          ]
        }
      ]
    },
    {
      "cell_type": "markdown",
      "source": [
        "Splitting the data into train, val and test set with helper function."
      ],
      "metadata": {
        "id": "GatMDLhCc6ZR"
      }
    },
    {
      "cell_type": "code",
      "source": [
        "def data_split(sentences, labels, tp=0.8, vp=0.1):\n",
        "  \"\"\"\n",
        "  Splits the data into train, validation and test split.\n",
        "  train split is controlled by train proportion, tp.\n",
        "  val split is controlled by val proportion, vp.\n",
        "  test split, sp (defined later), is 1-(tp+vp).\n",
        "\n",
        "  \"\"\"\n",
        "  sp = 1 - tp - vp\n",
        "  train_size = round(len(sentences) * tp)\n",
        "  val_size = round(len(sentences) * vp)\n",
        "  test_size = len(sentences) - (train_size + val_size)\n",
        "\n",
        "  train_sentences = sentences[:train_size]\n",
        "  val_sentences = sentences[train_size: (train_size+val_size)]\n",
        "  test_sentences = sentences[(train_size+val_size):]\n",
        "\n",
        "  train_labels = labels[:train_size]\n",
        "  val_labels = labels[train_size: (train_size+val_size)]\n",
        "  test_labels = labels[(train_size+val_size):]\n",
        "\n",
        "  return train_sentences, val_sentences, test_sentences, train_labels, val_labels, test_labels"
      ],
      "metadata": {
        "id": "dOCZ0_MJc19L"
      },
      "execution_count": 12,
      "outputs": []
    },
    {
      "cell_type": "code",
      "source": [
        "# see if the function worked\n",
        "\n",
        "train_sentences, val_sentences, test_sentences, train_labels, val_labels, test_labels = data_split(sentences, labels)\n",
        "\n",
        "print(f\"Number of training sentences: {len(train_sentences)}\")\n",
        "print(f\"Number of validation sentences: {len(val_sentences)}\")\n",
        "print(f\"Number of test sentences: {len(test_sentences)}\")\n",
        "\n",
        "print(f\"Number of training labels: {len(train_labels)}\")\n",
        "print(f\"Number of validation labels: {len(val_labels)}\")\n",
        "print(f\"Number of test labels: {len(test_labels)}\")\n"
      ],
      "metadata": {
        "colab": {
          "base_uri": "https://localhost:8080/"
        },
        "id": "wgZ4ug5FfDDJ",
        "outputId": "dbe46574-d021-43f3-aa83-2f95a2165584"
      },
      "execution_count": 13,
      "outputs": [
        {
          "output_type": "stream",
          "name": "stdout",
          "text": [
            "Number of training sentences: 240000\n",
            "Number of validation sentences: 30000\n",
            "Number of test sentences: 30000\n",
            "Number of training labels: 240000\n",
            "Number of validation labels: 30000\n",
            "Number of test labels: 30000\n"
          ]
        }
      ]
    },
    {
      "cell_type": "code",
      "source": [
        "ts = list(train_sentences)\n",
        "type(ts)\n",
        "print(ts[1])"
      ],
      "metadata": {
        "colab": {
          "base_uri": "https://localhost:8080/"
        },
        "id": "McvzmRJgxMoh",
        "outputId": "c7b32dd6-8386-403a-df24-fbc759f665db"
      },
      "execution_count": 41,
      "outputs": [
        {
          "output_type": "stream",
          "name": "stdout",
          "text": [
            "Couldn't help but be teary-eyed when I hear **Don't Leave This Place**. Makes me want to cry. \n"
          ]
        }
      ]
    },
    {
      "cell_type": "markdown",
      "source": [
        "###Preprocessing: Tokenization, sequences, truncting and padding."
      ],
      "metadata": {
        "id": "hUXHvj6NgESy"
      }
    },
    {
      "cell_type": "markdown",
      "source": [
        "Fitting a Tokenizer."
      ],
      "metadata": {
        "id": "MY39OqokgXmA"
      }
    },
    {
      "cell_type": "code",
      "source": [
        "def fit_tokenizer(train_sentences):\n",
        "\n",
        "  #instantiate the Tokenizer class\n",
        "  tokenizer = Tokenizer(oov_token=\"<OOV>\")\n",
        "\n",
        "  #fit it to the training_sentences\n",
        "  tokenizer.fit_on_texts(train_sentences)\n",
        "\n",
        "  return tokenizer"
      ],
      "metadata": {
        "id": "RDAThhJNgUIy"
      },
      "execution_count": 14,
      "outputs": []
    },
    {
      "cell_type": "markdown",
      "source": [
        "Padding and truncating."
      ],
      "metadata": {
        "id": "dUuTOxNvk51R"
      }
    },
    {
      "cell_type": "code",
      "source": [
        "def seq_pad(sentences, tokenizer):\n",
        "\n",
        "  sequences = tokenizer.texts_to_sequences(sentences)\n",
        "\n",
        "  pad_trunc = pad_sequences(sequences, maxlen=16, truncating=\"post\", padding=\"post\")\n",
        "\n",
        "  return pad_trunc"
      ],
      "metadata": {
        "id": "SLCCRqnrhBMI"
      },
      "execution_count": 15,
      "outputs": []
    },
    {
      "cell_type": "code",
      "source": [
        "# see if it worked\n",
        "tokenizer = fit_tokenizer(train_sentences)\n",
        "word_index = tokenizer.word_index\n",
        "vocab_size = len(word_index)\n",
        "print(f\"Vocab size is: {vocab_size}\\n\")\n",
        "print(f\"Index of the word 'you' is: {word_index['you']}\")"
      ],
      "metadata": {
        "colab": {
          "base_uri": "https://localhost:8080/"
        },
        "id": "DIaPKrZLhrq7",
        "outputId": "0b05854d-891f-4935-d599-b3f502edeb4c"
      },
      "execution_count": 16,
      "outputs": [
        {
          "output_type": "stream",
          "name": "stdout",
          "text": [
            "Vocab size is: 185544\n",
            "\n",
            "Index of the word 'you' is: 8\n"
          ]
        }
      ]
    },
    {
      "cell_type": "code",
      "source": [
        "train_pad_trunc = seq_pad(train_sentences, tokenizer)\n",
        "val_pad_trunc = seq_pad(val_sentences, tokenizer)\n",
        "test_pad_trunc = seq_pad(test_sentences, tokenizer)\n",
        "\n",
        "print(f\"Training sequences have shape: {train_pad_trunc.shape}\\n\")\n",
        "print(f\"Validation sequences have shape: {val_pad_trunc.shape}\\n\")\n",
        "print(f\"Test sequences have shape: {test_pad_trunc.shape}\")"
      ],
      "metadata": {
        "colab": {
          "base_uri": "https://localhost:8080/"
        },
        "id": "agpUkjTeimzp",
        "outputId": "55a13a1e-ae5d-40d1-f13b-a26a4adc9194"
      },
      "execution_count": 17,
      "outputs": [
        {
          "output_type": "stream",
          "name": "stdout",
          "text": [
            "Training sequences have shape: (240000, 16)\n",
            "\n",
            "Validation sequences have shape: (30000, 16)\n",
            "\n",
            "Test sequences have shape: (30000, 16)\n"
          ]
        }
      ]
    },
    {
      "cell_type": "markdown",
      "source": [
        "Converting labels to numpy arrays.\n"
      ],
      "metadata": {
        "id": "kzoxWMGUk9Po"
      }
    },
    {
      "cell_type": "code",
      "source": [
        "train_labels = np.array(train_labels)\n",
        "val_labels = np.array(val_labels)\n",
        "test_labels = np.array(test_labels)\n"
      ],
      "metadata": {
        "id": "HIFkOfwVlBG4"
      },
      "execution_count": 18,
      "outputs": []
    },
    {
      "cell_type": "markdown",
      "source": [
        "### Loading predefined Glove Embeddings for transfer learning."
      ],
      "metadata": {
        "id": "-1GcmKb9lwsB"
      }
    },
    {
      "cell_type": "markdown",
      "source": [
        "The Glove embedding file is found at this page: https://www.kaggle.com/datasets/danielwillgeorge/glove6b100dtxt.\n",
        "I downloaded it, unzipped it and saved it to my gdrive."
      ],
      "metadata": {
        "id": "kxDLGFOZnVXJ"
      }
    },
    {
      "cell_type": "code",
      "source": [
        "#downloading Glove word embeddings and saving it as a dictionary\n",
        "glove_file = \"/content/gdrive/MyDrive/data_files/glove.6B.100d.txt\"\n",
        "\n",
        "glove_embed = {}\n",
        "\n",
        "with open(glove_file) as g:\n",
        "  for line in g:\n",
        "    values = line.split()\n",
        "    word = values[0]\n",
        "    vector = np.asarray(values[1:], dtype='float32')\n",
        "    glove_embed[word] = vector\n"
      ],
      "metadata": {
        "id": "SoNFDKSTmYTP"
      },
      "execution_count": 20,
      "outputs": []
    },
    {
      "cell_type": "code",
      "source": [
        "#seeing if it worked\n",
        "\n",
        "test_word = 'cat'\n",
        "test_vector = glove_embed[test_word]\n",
        "print(f\"Glove vector representation of {test_word} is: \\n{test_vector}\\n\")\n",
        "print(f\"Dimension of each vector is: {test_vector.shape}\")"
      ],
      "metadata": {
        "colab": {
          "base_uri": "https://localhost:8080/"
        },
        "id": "01ErsVxLnvfL",
        "outputId": "62404915-20b9-4430-ebe4-1c4c347479e9"
      },
      "execution_count": 21,
      "outputs": [
        {
          "output_type": "stream",
          "name": "stdout",
          "text": [
            "Glove vector representation of cat is: \n",
            "[ 0.23088    0.28283    0.6318    -0.59411   -0.58599    0.63255\n",
            "  0.24402   -0.14108    0.060815  -0.7898    -0.29102    0.14287\n",
            "  0.72274    0.20428    0.1407     0.98757    0.52533    0.097456\n",
            "  0.8822     0.51221    0.40204    0.21169   -0.013109  -0.71616\n",
            "  0.55387    1.1452    -0.88044   -0.50216   -0.22814    0.023885\n",
            "  0.1072     0.083739   0.55015    0.58479    0.75816    0.45706\n",
            " -0.28001    0.25225    0.68965   -0.60972    0.19578    0.044209\n",
            " -0.31136   -0.68826   -0.22721    0.46185   -0.77162    0.10208\n",
            "  0.55636    0.067417  -0.57207    0.23735    0.4717     0.82765\n",
            " -0.29263   -1.3422    -0.099277   0.28139    0.41604    0.10583\n",
            "  0.62203    0.89496   -0.23446    0.51349    0.99379    1.1846\n",
            " -0.16364    0.20653    0.73854    0.24059   -0.96473    0.13481\n",
            " -0.0072484  0.33016   -0.12365    0.27191   -0.40951    0.021909\n",
            " -0.6069     0.40755    0.19566   -0.41802    0.18636   -0.032652\n",
            " -0.78571   -0.13847    0.044007  -0.084423   0.04911    0.24104\n",
            "  0.45273   -0.18682    0.46182    0.089068  -0.18185   -0.01523\n",
            " -0.7368    -0.14532    0.15104   -0.71493  ]\n",
            "\n",
            "Dimension of each vector is: (100,)\n"
          ]
        }
      ]
    },
    {
      "cell_type": "markdown",
      "source": [
        "Representing the words in my vocab using this embedding. If any word in my vocab is not present in glove_embed, that word is represented by a row of zeros in embedding_matrix."
      ],
      "metadata": {
        "id": "ZH4CivReouSu"
      }
    },
    {
      "cell_type": "code",
      "source": [
        "# an empty numpy array with the right dimension\n",
        "embedding_dim = 100\n",
        "embedding_matrix = np.zeros((vocab_size+1, embedding_dim))\n",
        "\n",
        "# iterating over all of the words in my vocabulary and if the vector representation for \n",
        "# each word exists within GloVe's representations, saving it in the embedding_matrix array\n",
        "for word, vocab_ind in word_index.items():\n",
        "    embedding_vector = glove_embed.get(word)\n",
        "    if embedding_vector is not None:\n",
        "        embedding_matrix[vocab_ind] = embedding_vector"
      ],
      "metadata": {
        "id": "gle_MvwgqGAB"
      },
      "execution_count": 22,
      "outputs": []
    },
    {
      "cell_type": "markdown",
      "source": [
        "### Model Definition, Training and Fine-tuning."
      ],
      "metadata": {
        "id": "tj_1T3pSrF3H"
      }
    },
    {
      "cell_type": "code",
      "source": [
        "def get_model(vocab_size, embedding_dim, embedding_matrix):\n",
        "    \"\"\"\n",
        "    Creates a binary sentiment classifier model\n",
        "    \n",
        "    \"\"\"\n",
        "    ### START CODE HERE\n",
        "    \n",
        "    model = tf.keras.Sequential([ \n",
        "        # setting embedding layer with glove embedding weights\n",
        "        tf.keras.layers.Embedding(input_dim= vocab_size+1, output_dim=embedding_dim, input_length=16, weights=[embedding_matrix], trainable=False), \n",
        "        #input_dim = vocab_size+1\n",
        "        #output_dim = embedding vector size for each word(here:100)\n",
        "        #input_lenght= max length of sequence fed\n",
        "        #trainable set False to not to train this pretrained embeddings\n",
        "        \n",
        "        tf.keras.layers.Dropout(0.1),\n",
        "        \n",
        "        tf.keras.layers.Conv1D(16, 5, activation='relu'),\n",
        "        tf.keras.layers.GlobalMaxPooling1D(),\n",
        "        tf.keras.layers.Dense(20, activation='relu'),\n",
        "        tf.keras.layers.Dense(1, activation='sigmoid')\n",
        "    ])\n",
        "    \n",
        "    model.compile(loss='binary_crossentropy',\n",
        "                  optimizer='adam',\n",
        "                  metrics=['accuracy']) \n",
        "\n",
        "       \n",
        "    return model"
      ],
      "metadata": {
        "id": "gydhU2FUrWJs"
      },
      "execution_count": 68,
      "outputs": []
    },
    {
      "cell_type": "code",
      "source": [
        "model = get_model(vocab_size, embedding_dim, embedding_matrix)\n",
        "model.summary()"
      ],
      "metadata": {
        "colab": {
          "base_uri": "https://localhost:8080/"
        },
        "id": "pzr-pb0ztQ3S",
        "outputId": "5168f6d2-4992-450c-ffa6-657561dc3034"
      },
      "execution_count": 69,
      "outputs": [
        {
          "output_type": "stream",
          "name": "stdout",
          "text": [
            "Model: \"sequential_2\"\n",
            "_________________________________________________________________\n",
            " Layer (type)                Output Shape              Param #   \n",
            "=================================================================\n",
            " embedding_2 (Embedding)     (None, 16, 100)           18554500  \n",
            "                                                                 \n",
            " dropout_2 (Dropout)         (None, 16, 100)           0         \n",
            "                                                                 \n",
            " conv1d_2 (Conv1D)           (None, 12, 16)            8016      \n",
            "                                                                 \n",
            " global_max_pooling1d_2 (Glo  (None, 16)               0         \n",
            " balMaxPooling1D)                                                \n",
            "                                                                 \n",
            " dense_4 (Dense)             (None, 20)                340       \n",
            "                                                                 \n",
            " dense_5 (Dense)             (None, 1)                 21        \n",
            "                                                                 \n",
            "=================================================================\n",
            "Total params: 18,562,877\n",
            "Trainable params: 8,377\n",
            "Non-trainable params: 18,554,500\n",
            "_________________________________________________________________\n"
          ]
        }
      ]
    },
    {
      "cell_type": "code",
      "source": [
        "# Train the model\n",
        "history = model.fit(train_pad_trunc, train_labels, epochs=4, validation_data=(val_pad_trunc, val_labels))"
      ],
      "metadata": {
        "colab": {
          "base_uri": "https://localhost:8080/"
        },
        "id": "1QQMahCItauf",
        "outputId": "76e0fad7-df67-4847-dd1d-9279a64d31df"
      },
      "execution_count": 70,
      "outputs": [
        {
          "output_type": "stream",
          "name": "stdout",
          "text": [
            "Epoch 1/4\n",
            "7500/7500 [==============================] - 34s 4ms/step - loss: 0.5653 - accuracy: 0.7006 - val_loss: 0.5279 - val_accuracy: 0.7329\n",
            "Epoch 2/4\n",
            "7500/7500 [==============================] - 35s 5ms/step - loss: 0.5361 - accuracy: 0.7241 - val_loss: 0.5224 - val_accuracy: 0.7366\n",
            "Epoch 3/4\n",
            "7500/7500 [==============================] - 34s 4ms/step - loss: 0.5267 - accuracy: 0.7325 - val_loss: 0.5157 - val_accuracy: 0.7426\n",
            "Epoch 4/4\n",
            "7500/7500 [==============================] - 33s 4ms/step - loss: 0.5224 - accuracy: 0.7340 - val_loss: 0.5108 - val_accuracy: 0.7458\n"
          ]
        }
      ]
    },
    {
      "cell_type": "markdown",
      "source": [
        "Trying Keras Tuner."
      ],
      "metadata": {
        "id": "t6MIRyBMzup4"
      }
    },
    {
      "cell_type": "code",
      "source": [
        "def build_model(hp):\n",
        "  ### START CODE HERE\n",
        "    \n",
        "    model = tf.keras.Sequential([ \n",
        "        # setting embedding layer with glove embedding weights\n",
        "        tf.keras.layers.Embedding(input_dim= vocab_size+1, output_dim=100, input_length=16, weights=[embedding_matrix], trainable=False), \n",
        "        #input_dim = vocab_size+1\n",
        "        #output_dim = embedding vector size for each word(here:100)\n",
        "        #input_lenght= max length of sequence fed\n",
        "        #trainable set False to not to train this pretrained embeddings\n",
        "        \n",
        "        tf.keras.layers.Dropout(rate= hp.Choice('drop_out_rate_1', values=[0.05, 0.1, 0.15, 0.2])),\n",
        "        \n",
        "        tf.keras.layers.Conv1D(\n",
        "            filters=hp.Choice('conv_1d_1_filter', values=[4,8,12,16,24]),\n",
        "            kernel_size=hp.Choice('kernel_size_1', values=[2,3,4,5]),\n",
        "            activation='relu'\n",
        "            ),\n",
        "\n",
        "        tf.keras.layers.GlobalMaxPooling1D(),\n",
        "        tf.keras.layers.Dense(\n",
        "            units=hp.Choice('dense_units_1', values=[5,10,15,20,25]),\n",
        "            activation='relu'\n",
        "            ),\n",
        "        tf.keras.layers.Dense(1, activation='sigmoid')\n",
        "    ])\n",
        "    \n",
        "    \n",
        "    model.compile(loss='binary_crossentropy',\n",
        "                  optimizer=tf.keras.optimizers.Adam(hp.Choice('learning_rate', values=[1e-2, 1e-3, 1e-4, 1e-5])),\n",
        "                  metrics=['accuracy'])\n",
        "    \n",
        "    return model"
      ],
      "metadata": {
        "id": "lJz-5dhIz0Xt"
      },
      "execution_count": 85,
      "outputs": []
    },
    {
      "cell_type": "code",
      "source": [
        "#initialzie the tuner\n",
        "import keras_tuner\n",
        "\n",
        "#from tensorflow import keras\n",
        "import keras\n",
        "#creating randomsearch object\n",
        "\n",
        "tuner = keras_tuner.RandomSearch(build_model,\n",
        "                                 objective='val_accuracy',\n",
        "                                 max_trials=10)"
      ],
      "metadata": {
        "id": "ua_Ubtiy2atd"
      },
      "execution_count": 86,
      "outputs": []
    },
    {
      "cell_type": "code",
      "source": [
        "# search in the random search grid for best parameters\n",
        "tuner.search(train_pad_trunc, train_labels, epochs=5, validation_data=[val_pad_trunc, val_labels])"
      ],
      "metadata": {
        "colab": {
          "base_uri": "https://localhost:8080/"
        },
        "id": "yhfQCctd25Pr",
        "outputId": "dee04065-b899-4f92-bf29-a39d941deb04"
      },
      "execution_count": 87,
      "outputs": [
        {
          "output_type": "stream",
          "name": "stdout",
          "text": [
            "Trial 10 Complete [00h 02m 54s]\n",
            "val_accuracy: 0.7420666813850403\n",
            "\n",
            "Best val_accuracy So Far: 0.7455999851226807\n",
            "Total elapsed time: 00h 23m 10s\n"
          ]
        }
      ]
    },
    {
      "cell_type": "code",
      "source": [
        "model_tuned=tuner.get_best_models(num_models=1)[0]\n",
        "#summary of best model\n",
        "model_tuned.summary()"
      ],
      "metadata": {
        "colab": {
          "base_uri": "https://localhost:8080/"
        },
        "id": "uEBjLRyi3N_H",
        "outputId": "9523f466-0faf-4532-9234-f4c02bcc3dab"
      },
      "execution_count": 88,
      "outputs": [
        {
          "output_type": "stream",
          "name": "stdout",
          "text": [
            "Model: \"sequential\"\n",
            "_________________________________________________________________\n",
            " Layer (type)                Output Shape              Param #   \n",
            "=================================================================\n",
            " embedding (Embedding)       (None, 16, 100)           18554500  \n",
            "                                                                 \n",
            " dropout (Dropout)           (None, 16, 100)           0         \n",
            "                                                                 \n",
            " conv1d (Conv1D)             (None, 15, 12)            2412      \n",
            "                                                                 \n",
            " global_max_pooling1d (Globa  (None, 12)               0         \n",
            " lMaxPooling1D)                                                  \n",
            "                                                                 \n",
            " dense (Dense)               (None, 10)                130       \n",
            "                                                                 \n",
            " dense_1 (Dense)             (None, 1)                 11        \n",
            "                                                                 \n",
            "=================================================================\n",
            "Total params: 18,557,053\n",
            "Trainable params: 2,553\n",
            "Non-trainable params: 18,554,500\n",
            "_________________________________________________________________\n"
          ]
        }
      ]
    },
    {
      "cell_type": "code",
      "source": [
        "history2 = model_tuned.fit(train_pad_trunc, train_labels, epochs=10, validation_data=(val_pad_trunc, val_labels))"
      ],
      "metadata": {
        "colab": {
          "base_uri": "https://localhost:8080/"
        },
        "id": "lMLAhlCEAWYO",
        "outputId": "e22925df-8571-4d9e-904a-202baa0faf1b"
      },
      "execution_count": 89,
      "outputs": [
        {
          "output_type": "stream",
          "name": "stdout",
          "text": [
            "Epoch 1/10\n",
            "7500/7500 [==============================] - 33s 4ms/step - loss: 0.5352 - accuracy: 0.7283 - val_loss: 0.5138 - val_accuracy: 0.7445\n",
            "Epoch 2/10\n",
            "7500/7500 [==============================] - 30s 4ms/step - loss: 0.5351 - accuracy: 0.7293 - val_loss: 0.5103 - val_accuracy: 0.7471\n",
            "Epoch 3/10\n",
            "7500/7500 [==============================] - 31s 4ms/step - loss: 0.5345 - accuracy: 0.7313 - val_loss: 0.5191 - val_accuracy: 0.7499\n",
            "Epoch 4/10\n",
            "7500/7500 [==============================] - 31s 4ms/step - loss: 0.5335 - accuracy: 0.7306 - val_loss: 0.5119 - val_accuracy: 0.7510\n",
            "Epoch 5/10\n",
            "7500/7500 [==============================] - 30s 4ms/step - loss: 0.5330 - accuracy: 0.7311 - val_loss: 0.5116 - val_accuracy: 0.7487\n",
            "Epoch 6/10\n",
            "7500/7500 [==============================] - 31s 4ms/step - loss: 0.5320 - accuracy: 0.7325 - val_loss: 0.5120 - val_accuracy: 0.7495\n",
            "Epoch 7/10\n",
            "7500/7500 [==============================] - 30s 4ms/step - loss: 0.5318 - accuracy: 0.7332 - val_loss: 0.5257 - val_accuracy: 0.7507\n",
            "Epoch 8/10\n",
            "7500/7500 [==============================] - 30s 4ms/step - loss: 0.5311 - accuracy: 0.7335 - val_loss: 0.5079 - val_accuracy: 0.7480\n",
            "Epoch 9/10\n",
            "7500/7500 [==============================] - 31s 4ms/step - loss: 0.5319 - accuracy: 0.7331 - val_loss: 0.5190 - val_accuracy: 0.7492\n",
            "Epoch 10/10\n",
            "7500/7500 [==============================] - 31s 4ms/step - loss: 0.5313 - accuracy: 0.7326 - val_loss: 0.5123 - val_accuracy: 0.7476\n"
          ]
        }
      ]
    },
    {
      "cell_type": "code",
      "source": [
        "#plot training and validation loss per epoch\n",
        "epochs = [*range(20)]\n",
        "\n",
        "plt.plot(history.history[\"loss\"], 'r')\n",
        "plt.plot(history.history[\"val_loss\"], 'b')\n",
        "plt.title(\"Loss vs Epochs\")\n",
        "plt.xlabel(\"Epoch\")\n",
        "plt.ylabel(\"Loss\")\n",
        "plt.legend([\"Training\", \"Validation\"], loc='upper right')\n",
        "plt.show()"
      ],
      "metadata": {
        "colab": {
          "base_uri": "https://localhost:8080/",
          "height": 295
        },
        "id": "fdLbzPhzt0TI",
        "outputId": "f5b8a97d-a496-4813-bb63-1989d10028e6"
      },
      "execution_count": 90,
      "outputs": [
        {
          "output_type": "display_data",
          "data": {
            "text/plain": [
              "<Figure size 432x288 with 1 Axes>"
            ],
            "image/png": "[encoded data removed]"
          },
          "metadata": {
            "needs_background": "light"
          }
        }
      ]
    },
    {
      "cell_type": "code",
      "source": [
        "#plot training and validation accuracy per epoch\n",
        "\n",
        "plt.plot(history.history[\"accuracy\"], 'r')\n",
        "plt.plot(history.history[\"val_accuracy\"], 'b')\n",
        "plt.title(\"Accuracy vs Epochs\")\n",
        "plt.xlabel(\"Epoch\")\n",
        "plt.ylabel(\"Accuracy\")\n",
        "plt.legend([\"Training\", \"Validation\"], loc='upper right')\n",
        "plt.show()"
      ],
      "metadata": {
        "colab": {
          "base_uri": "https://localhost:8080/",
          "height": 295
        },
        "id": "mbpCWYYzumdv",
        "outputId": "46e02e9b-c900-43d4-b64f-fa1ae9599c99"
      },
      "execution_count": 91,
      "outputs": [
        {
          "output_type": "display_data",
          "data": {
            "text/plain": [
              "<Figure size 432x288 with 1 Axes>"
            ],
            "image/png": "[encoded data removed]"
          },
          "metadata": {
            "needs_background": "light"
          }
        }
      ]
    },
    {
      "cell_type": "markdown",
      "source": [
        "### Predictions and Results"
      ],
      "metadata": {
        "id": "XURsmEqFwDrw"
      }
    },
    {
      "cell_type": "code",
      "source": [
        "# predict using the model in test set\n",
        "pred_labels = model.predict(test_pad_trunc)\n",
        "len_pred = len(pred_labels)\n",
        "pred_labels_2 = pred_labels.reshape((len_pred,))\n",
        "print(pred_labels_2.shape)\n",
        "print(type(pred_labels_2))\n"
      ],
      "metadata": {
        "colab": {
          "base_uri": "https://localhost:8080/"
        },
        "id": "Qp-fSUwawL4O",
        "outputId": "dbb9486f-f666-46f9-fd22-cf5e8cec8b7f"
      },
      "execution_count": 92,
      "outputs": [
        {
          "output_type": "stream",
          "name": "stdout",
          "text": [
            "938/938 [==============================] - 3s 3ms/step\n",
            "(30000,)\n",
            "<class 'numpy.ndarray'>\n"
          ]
        }
      ]
    },
    {
      "cell_type": "code",
      "source": [
        "#converting test labels and predicted labels np array to list\n",
        "pred_list = list(pred_labels_2)\n",
        "y_pred = [1 if p>=0.5 else 0 for p in pred_list]\n",
        "#print(y_pred)\n",
        "test_labels_list = list(test_labels)\n",
        "#print(test_labels_list)"
      ],
      "metadata": {
        "id": "LVeY4An90_5e"
      },
      "execution_count": 93,
      "outputs": []
    },
    {
      "cell_type": "code",
      "source": [
        "\n",
        "pred_acc = accuracy_score(test_labels_list, y_pred)\n",
        "print(f\"Accuracy score is: {pred_acc}\")"
      ],
      "metadata": {
        "colab": {
          "base_uri": "https://localhost:8080/"
        },
        "id": "A3IvShkRwZ72",
        "outputId": "51fd8442-a000-4acb-94c8-80d241cb232a"
      },
      "execution_count": 94,
      "outputs": [
        {
          "output_type": "stream",
          "name": "stdout",
          "text": [
            "Accuracy score is: 0.7403\n"
          ]
        }
      ]
    },
    {
      "cell_type": "code",
      "source": [
        "labels_list = [\"negative\", \"positive\"]"
      ],
      "metadata": {
        "id": "dl_9UI5lx-Dc"
      },
      "execution_count": 95,
      "outputs": []
    },
    {
      "cell_type": "code",
      "source": [
        "#lets see for some sample\n",
        "r = random.randint(0, len_pred)\n",
        "\n",
        "#the sentence corresponding to this is:\n",
        "s = list(test_sentences)[r]\n",
        "print(s)\n",
        "print()\n",
        "print(f\"The true label associated with it is: {test_labels[r]} which means {labels_list[test_labels[r]]}\\n\")\n",
        "print(f\"The predicted label is: {y_pred[r]} which meanss {labels_list[test_labels[r]]}\")\n",
        "\n"
      ],
      "metadata": {
        "colab": {
          "base_uri": "https://localhost:8080/"
        },
        "id": "DWGUgKaVwOMV",
        "outputId": "62f8f289-4e2a-4c16-819e-a8a294383e05"
      },
      "execution_count": 96,
      "outputs": [
        {
          "output_type": "stream",
          "name": "stdout",
          "text": [
            "i now update on posterous as well as here on twitter. so do check out both for updates \n",
            "\n",
            "The true label associated with it is: 1 which means positive\n",
            "\n",
            "The predicted label is: 1 which meanss positive\n"
          ]
        }
      ]
    },
    {
      "cell_type": "code",
      "source": [
        "conf_mat = confusion_matrix(y_true=test_labels_list, y_pred=y_pred)\n",
        "print(conf_mat)"
      ],
      "metadata": {
        "colab": {
          "base_uri": "https://localhost:8080/"
        },
        "id": "b1f-zEtcyw4U",
        "outputId": "a15606fb-b2f0-43a5-88ee-911905b9c3fe"
      },
      "execution_count": 97,
      "outputs": [
        {
          "output_type": "stream",
          "name": "stdout",
          "text": [
            "[[10939  3986]\n",
            " [ 3805 11270]]\n"
          ]
        }
      ]
    }
  ]
}